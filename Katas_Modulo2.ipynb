{
 "cells": [
  {
   "cell_type": "markdown",
   "metadata": {},
   "source": [
    "## Kata 2\n",
    "\n",
    "Microsoft Windows [Versión 10.0.19044.1566]\n",
    "(c) Microsoft Corporation. Todos los derechos reservados.\n",
    "\n",
    "C:\\Users\\Joshua>env\\bin\\activate\n",
    "El sistema no puede encontrar la ruta especificada.\n",
    "\n",
    "C:\\Users\\Joshua>env/bin/activate\n",
    "\"env\" no se reconoce como un comando interno o externo,\n",
    "programa o archivo por lotes ejecutable.\n",
    "\n",
    "C:\\Users\\Joshua>env\\Scripts\\activate\n",
    "\n",
    "(env) C:\\Users\\Joshua>pip freeze\n",
    "\n",
    "(env) C:\\Users\\Joshua>pip install python-dateutil\n",
    "Collecting python-dateutil\n",
    "  Using cached python_dateutil-2.8.2-py2.py3-none-any.whl (247 kB)\n",
    "Collecting six>=1.5\n",
    "  Using cached six-1.16.0-py2.py3-none-any.whl (11 kB)\n",
    "Installing collected packages: six, python-dateutil\n",
    "Successfully installed python-dateutil-2.8.2 six-1.16.0\n",
    "WARNING: You are using pip version 21.2.4; however, version 22.0.3 is available.\n",
    "You should consider upgrading via the 'C:\\Users\\Joshua\\env\\Scripts\\python.exe -m pip install --upgrade pip' command.\n",
    "\n",
    "(env) C:\\Users\\Joshua>python -m pip install --upgrade pip\n",
    "Requirement already satisfied: pip in c:\\users\\joshua\\env\\lib\\site-packages (21.2.4)\n",
    "Collecting pip\n",
    "  Using cached pip-22.0.3-py3-none-any.whl (2.1 MB)\n",
    "Installing collected packages: pip\n",
    "  Attempting uninstall: pip\n",
    "    Found existing installation: pip 21.2.4\n",
    "    Uninstalling pip-21.2.4:\n",
    "      Successfully uninstalled pip-21.2.4\n",
    "Successfully installed pip-22.0.3\n",
    "\n",
    "(env) C:\\Users\\Joshua>"
   ]
  },
  {
   "cell_type": "markdown",
   "metadata": {},
   "source": [
    "## Ejecuta el comando pip install\n",
    "\n",
    "(env) C:\\Users\\Joshua>pip install python-dateutil\n",
    "Requirement already satisfied: python-dateutil in c:\\users\\joshua\\env\\lib\\site-packages (2.8.2)\n",
    "Requirement already satisfied: six>=1.5 in c:\\users\\joshua\\env\\lib\\site-packages (from python-dateutil) (1.16.0)\n",
    "\n",
    "(env) C:\\Users\\Joshua>"
   ]
  },
  {
   "cell_type": "markdown",
   "metadata": {},
   "source": [
    "## Listado de bibliotecas instaladas\n",
    "\n",
    "(env) C:\\Users\\Joshua>pip freeze\n",
    "\n",
    "python-dateutil==2.8.2\n",
    "\n",
    "six==1.16.0\n",
    "\n",
    "(env) C:\\Users\\Joshua>\n",
    "\n",
    "(env) C:\\Users\\Joshua>deactivate\n",
    "\n",
    "C:\\Users\\Joshua>"
   ]
  }
 ],
 "metadata": {
  "interpreter": {
   "hash": "82a776e37edfe77bc06d7d01db6c20f02d10ad847f9766e986cd6375c47674b1"
  },
  "kernelspec": {
   "display_name": "Python 3.10.2 64-bit",
   "language": "python",
   "name": "python3"
  },
  "language_info": {
   "name": "python",
   "version": "3.10.2"
  },
  "orig_nbformat": 4
 },
 "nbformat": 4,
 "nbformat_minor": 2
}
